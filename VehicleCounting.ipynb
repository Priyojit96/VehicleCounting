{
  "nbformat": 4,
  "nbformat_minor": 0,
  "metadata": {
    "accelerator": "GPU",
    "colab": {
      "name": "VehicleCounting.ipynb",
      "provenance": []
    },
    "kernelspec": {
      "display_name": "Python 3",
      "name": "python3"
    },
    "language_info": {
      "name": "python"
    }
  },
  "cells": [
    {
      "cell_type": "code",
      "metadata": {
        "colab": {
          "base_uri": "https://localhost:8080/",
          "height": 554
        },
        "id": "yOeuDKuOAyRA",
        "outputId": "dedea372-d639-4831-cc7e-cbef086457db"
      },
      "source": [
        "import cv2\n",
        "import numpy as np\n",
        "from time import sleep\n",
        "\n",
        "largura_min=80 \n",
        "altura_min=80 \n",
        "\n",
        "offset=6 \n",
        "\n",
        "pos_linha=550 \n",
        "\n",
        "delay= 60 \n",
        "detec = []\n",
        "carros= 0\n",
        "\n",
        "\t\n",
        "def pega_centro(x, y, w, h):\n",
        "    x1 = int(w / 2)\n",
        "    y1 = int(h / 2)\n",
        "    cx = x + x1\n",
        "    cy = y + y1\n",
        "    return cx,cy\n",
        "\n",
        "cap = cv2.VideoCapture('video.mp4')\n",
        "subtracao = cv2.bgsegm.createBackgroundSubtractorMOG()\n",
        "\n",
        "while True:\n",
        "    ret , frame1 = cap.read()\n",
        "    tempo = float(1/delay)\n",
        "    sleep(tempo) \n",
        "    grey = cv2.cvtColor(frame1,cv2.COLOR_BGR2GRAY)\n",
        "    blur = cv2.GaussianBlur(grey,(3,3),5)\n",
        "    img_sub = subtracao.apply(blur)\n",
        "    dilat = cv2.dilate(img_sub,np.ones((5,5)))\n",
        "    kernel = cv2.getStructuringElement(cv2.MORPH_ELLIPSE, (5, 5))\n",
        "    dilatada = cv2.morphologyEx (dilat, cv2. MORPH_CLOSE , kernel)\n",
        "    dilatada = cv2.morphologyEx (dilatada, cv2. MORPH_CLOSE , kernel)\n",
        "    contorno,h=cv2.findContours(dilatada,cv2.RETR_TREE,cv2.CHAIN_APPROX_SIMPLE)\n",
        "    \n",
        "    cv2.line(frame1, (25, pos_linha), (1200, pos_linha), (255,127,0), 3) \n",
        "    for(i,c) in enumerate(contorno):\n",
        "        (x,y,w,h) = cv2.boundingRect(c)\n",
        "        validar_contorno = (w >= largura_min) and (h >= altura_min)\n",
        "        if not validar_contorno:\n",
        "            continue\n",
        "\n",
        "        cv2.rectangle(frame1,(x,y),(x+w,y+h),(0,255,0),2)        \n",
        "        centro = pega_centro(x, y, w, h)\n",
        "        detec.append(centro)\n",
        "        cv2.circle(frame1, centro, 4, (0, 0,255), -1)\n",
        "\n",
        "        for (x,y) in detec:\n",
        "            if y<(pos_linha+offset) and y>(pos_linha-offset):\n",
        "                carros+=1\n",
        "                cv2.line(frame1, (25, pos_linha), (1200, pos_linha), (0,127,255), 3)  \n",
        "                detec.remove((x,y))\n",
        "                print(\"car is detected : \"+str(carros))        \n",
        "       \n",
        "    cv2.putText(frame1, \"VEHICLE COUNT : \"+str(carros), (450, 70), cv2.FONT_HERSHEY_SIMPLEX, 2, (0, 0, 255),5)\n",
        "    #cv2_imshow( frame1)\n",
        "    #cv2_imshow(dilatada)\n",
        "\n",
        "    if cv2.waitKey(1) == 27:\n",
        "        break\n",
        "    \n",
        "cv2.destroyAllWindows()\n",
        "cap.release()\n"
      ],
      "execution_count": null,
      "outputs": [
        {
          "output_type": "stream",
          "text": [
            "car is detected : 1\n",
            "car is detected : 2\n",
            "car is detected : 3\n",
            "car is detected : 4\n",
            "car is detected : 5\n",
            "car is detected : 6\n",
            "car is detected : 7\n",
            "car is detected : 8\n",
            "car is detected : 9\n",
            "car is detected : 10\n",
            "car is detected : 11\n",
            "car is detected : 12\n",
            "car is detected : 13\n",
            "car is detected : 14\n",
            "car is detected : 15\n",
            "car is detected : 16\n",
            "car is detected : 17\n",
            "car is detected : 18\n"
          ],
          "name": "stdout"
        },
        {
          "output_type": "error",
          "ename": "KeyboardInterrupt",
          "evalue": "ignored",
          "traceback": [
            "\u001b[0;31m---------------------------------------------------------------------------\u001b[0m",
            "\u001b[0;31mKeyboardInterrupt\u001b[0m                         Traceback (most recent call last)",
            "\u001b[0;32m<ipython-input-5-a07109b678a7>\u001b[0m in \u001b[0;36m<module>\u001b[0;34m()\u001b[0m\n\u001b[1;32m     31\u001b[0m     \u001b[0mgrey\u001b[0m \u001b[0;34m=\u001b[0m \u001b[0mcv2\u001b[0m\u001b[0;34m.\u001b[0m\u001b[0mcvtColor\u001b[0m\u001b[0;34m(\u001b[0m\u001b[0mframe1\u001b[0m\u001b[0;34m,\u001b[0m\u001b[0mcv2\u001b[0m\u001b[0;34m.\u001b[0m\u001b[0mCOLOR_BGR2GRAY\u001b[0m\u001b[0;34m)\u001b[0m\u001b[0;34m\u001b[0m\u001b[0;34m\u001b[0m\u001b[0m\n\u001b[1;32m     32\u001b[0m     \u001b[0mblur\u001b[0m \u001b[0;34m=\u001b[0m \u001b[0mcv2\u001b[0m\u001b[0;34m.\u001b[0m\u001b[0mGaussianBlur\u001b[0m\u001b[0;34m(\u001b[0m\u001b[0mgrey\u001b[0m\u001b[0;34m,\u001b[0m\u001b[0;34m(\u001b[0m\u001b[0;36m3\u001b[0m\u001b[0;34m,\u001b[0m\u001b[0;36m3\u001b[0m\u001b[0;34m)\u001b[0m\u001b[0;34m,\u001b[0m\u001b[0;36m5\u001b[0m\u001b[0;34m)\u001b[0m\u001b[0;34m\u001b[0m\u001b[0;34m\u001b[0m\u001b[0m\n\u001b[0;32m---> 33\u001b[0;31m     \u001b[0mimg_sub\u001b[0m \u001b[0;34m=\u001b[0m \u001b[0msubtracao\u001b[0m\u001b[0;34m.\u001b[0m\u001b[0mapply\u001b[0m\u001b[0;34m(\u001b[0m\u001b[0mblur\u001b[0m\u001b[0;34m)\u001b[0m\u001b[0;34m\u001b[0m\u001b[0;34m\u001b[0m\u001b[0m\n\u001b[0m\u001b[1;32m     34\u001b[0m     \u001b[0mdilat\u001b[0m \u001b[0;34m=\u001b[0m \u001b[0mcv2\u001b[0m\u001b[0;34m.\u001b[0m\u001b[0mdilate\u001b[0m\u001b[0;34m(\u001b[0m\u001b[0mimg_sub\u001b[0m\u001b[0;34m,\u001b[0m\u001b[0mnp\u001b[0m\u001b[0;34m.\u001b[0m\u001b[0mones\u001b[0m\u001b[0;34m(\u001b[0m\u001b[0;34m(\u001b[0m\u001b[0;36m5\u001b[0m\u001b[0;34m,\u001b[0m\u001b[0;36m5\u001b[0m\u001b[0;34m)\u001b[0m\u001b[0;34m)\u001b[0m\u001b[0;34m)\u001b[0m\u001b[0;34m\u001b[0m\u001b[0;34m\u001b[0m\u001b[0m\n\u001b[1;32m     35\u001b[0m     \u001b[0mkernel\u001b[0m \u001b[0;34m=\u001b[0m \u001b[0mcv2\u001b[0m\u001b[0;34m.\u001b[0m\u001b[0mgetStructuringElement\u001b[0m\u001b[0;34m(\u001b[0m\u001b[0mcv2\u001b[0m\u001b[0;34m.\u001b[0m\u001b[0mMORPH_ELLIPSE\u001b[0m\u001b[0;34m,\u001b[0m \u001b[0;34m(\u001b[0m\u001b[0;36m5\u001b[0m\u001b[0;34m,\u001b[0m \u001b[0;36m5\u001b[0m\u001b[0;34m)\u001b[0m\u001b[0;34m)\u001b[0m\u001b[0;34m\u001b[0m\u001b[0;34m\u001b[0m\u001b[0m\n",
            "\u001b[0;31mKeyboardInterrupt\u001b[0m: "
          ]
        }
      ]
    }
  ]
}